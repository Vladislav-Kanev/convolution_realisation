{
 "cells": [
  {
   "cell_type": "markdown",
   "metadata": {},
   "source": [
    "* Реализовать функцию свертки (специфицировать размер и количество фильтров, входной тензор, stride, ...)\n",
    "$$O[m][x][y] = \\sum_{i=0}^{R-1}\\sum_{j=0}^{S-1}\\sum_{k=0}^{C-1}I[k][x+i][y+j] * W[m][k][i][j]$$\n",
    "\n",
    "* Написать фунцию реализующую сверточный слой через im2col. Сделать проверку результата с помощью прямой реализации свертки.\n",
    "\n",
    "* Специфицировать и написать функцию реализующиую Depthwise-separable свертку."
   ]
  },
  {
   "cell_type": "markdown",
   "metadata": {},
   "source": [
    "### Прямая реализация свертки"
   ]
  },
  {
   "cell_type": "code",
   "execution_count": 1,
   "metadata": {},
   "outputs": [],
   "source": [
    "import numpy as np\n",
    "import torch\n",
    "from tqdm import tqdm\n",
    "\n",
    "def convolution(input_tensor, filters, stride=(1, 1)):\n",
    "    batch_size, C, H, W = input_tensor.shape\n",
    "    \n",
    "    M, _, R, S = filters.shape\n",
    "    \n",
    "    stride_h, stride_w = stride\n",
    "    \n",
    "    OH = (H - R) // stride_h + 1\n",
    "    OW = (W - S) // stride_w + 1\n",
    "    \n",
    "    output = np.zeros((batch_size, M, OH, OW))\n",
    "    \n",
    "    for b in range(batch_size):\n",
    "        for m in range(M):\n",
    "            for oh in range(OH):\n",
    "                for ow in range(OW):\n",
    "                    for i in range(R):\n",
    "                        for j in range(S):\n",
    "                            for c in range(C):\n",
    "                                output[b, m, oh, ow] += input_tensor[b, c, oh * stride_h + i, ow * stride_w + j] * filters[m, c, i, j]\n",
    "    \n",
    "    return output"
   ]
  },
  {
   "cell_type": "markdown",
   "metadata": {},
   "source": [
    "### Свертка im2col"
   ]
  },
  {
   "cell_type": "code",
   "execution_count": 2,
   "metadata": {},
   "outputs": [],
   "source": [
    "def im2col(input_data, filter_h, filter_w, stride=(1, 1), pad=0):\n",
    "    N, C, H, W = input_data.shape\n",
    "    stride_h, stride_w = stride\n",
    "    out_h = (H + 2 * pad - filter_h) // stride_h + 1\n",
    "    out_w = (W + 2 * pad - filter_w) // stride_w + 1\n",
    "\n",
    "    img = np.pad(input_data, [(0,0), (0,0), (pad, pad), (pad, pad)], 'constant')\n",
    "    col = np.zeros((N, C, filter_h, filter_w, out_h, out_w))\n",
    "\n",
    "    for y in range(filter_h):\n",
    "        y_max = y + stride_h * out_h\n",
    "        for x in range(filter_w):\n",
    "            x_max = x + stride_w*out_w\n",
    "            col[:, :, y, x, :, :] = img[:, :, y:y_max:stride_h, x:x_max:stride_w]\n",
    "\n",
    "    col = col.transpose(0, 4, 5, 1, 2, 3).reshape(N*out_h*out_w, -1)\n",
    "    return col\n",
    "\n",
    "\n",
    "def convolution_im2col(input_tensor, filter, stride=(1, 1), pad=0):\n",
    "    FN, C, FH, FW = filter.shape\n",
    "    N, C, H, W = input_tensor.shape\n",
    "    stride_h, stride_w = stride\n",
    "    out_h = 1 + int((H + 2 * pad - FH) / stride_h)\n",
    "    out_w = 1 + int((W + 2 * pad - FW) / stride_w)\n",
    "\n",
    "    col = im2col(input_tensor, FH, FW, stride, pad)\n",
    "    col_W = filter.reshape(FN, -1).T\n",
    "    out = np.dot(col, col_W)\n",
    "\n",
    "    out = out.reshape(N, out_h, out_w, -1).transpose(0, 3, 1, 2)\n",
    "\n",
    "    return out"
   ]
  },
  {
   "cell_type": "markdown",
   "metadata": {},
   "source": [
    "### Тестирование"
   ]
  },
  {
   "cell_type": "code",
   "execution_count": 3,
   "metadata": {},
   "outputs": [],
   "source": [
    "def compare_convolution(input_tensor, filters, stride=(1, 1), verbose=False):\n",
    "    # default convolution\n",
    "    conv = convolution(input_tensor, filters, stride)\n",
    "\n",
    "    # im2col convoluion\n",
    "    conv_im2col = convolution_im2col(input_tensor, filters, stride)\n",
    "    \n",
    "    # torch result\n",
    "    conv_torch = torch.nn.functional.conv2d(torch.Tensor(input_tensor), torch.Tensor(filters), stride=stride)\n",
    "    \n",
    "    if verbose:\n",
    "        print(\"Custom Convolution Output:\")\n",
    "        print(conv.shape)\n",
    "        print(\"\\nTensorFlow Convolution Output:\")\n",
    "        print(conv_torch.shape)\n",
    "        print(\"\\nAre the outputs equal?\")\n",
    "        print(np.allclose(conv, conv_torch))\n",
    "    return np.allclose(conv, conv_torch) and np.allclose(conv_im2col, conv)\n"
   ]
  },
  {
   "cell_type": "code",
   "execution_count": 4,
   "metadata": {},
   "outputs": [],
   "source": [
    "def run_tests():\n",
    "    for stride_h in tqdm([1, 2 ,3]):\n",
    "        for stride_w in [1,2,3]:\n",
    "            for batch_size in [1,2,3]:\n",
    "                for channels in [1,2,3]:\n",
    "                    for output_channels in [1,2,3]:\n",
    "                        size = 100\n",
    "                        for filter_size in [3, 5, 7]:\n",
    "                            input_tensor = np.random.rand(batch_size, channels, size, size) \n",
    "                            filters = np.random.rand(output_channels, channels, filter_size, filter_size)\n",
    "                            if not compare_convolution(input_tensor, filters, (stride_h, stride_w)):\n",
    "                                print(\"Test failed!\")\n",
    "                                print(stride_h, stride_w, batch_size, channels, output_channels, size, filter_size)\n",
    "                                return False\n",
    "    return True"
   ]
  },
  {
   "cell_type": "code",
   "execution_count": 5,
   "metadata": {},
   "outputs": [
    {
     "name": "stderr",
     "output_type": "stream",
     "text": [
      "100%|██████████| 3/3 [03:36<00:00, 72.07s/it] "
     ]
    },
    {
     "name": "stdout",
     "output_type": "stream",
     "text": [
      "Is test passed: True\n"
     ]
    },
    {
     "name": "stderr",
     "output_type": "stream",
     "text": [
      "\n"
     ]
    }
   ],
   "source": [
    "print(f'Is test passed: {run_tests()}')"
   ]
  },
  {
   "cell_type": "markdown",
   "metadata": {},
   "source": [
    "Тесты прошли успешно и функции свертки работают корректно. Для сравнения в качестве правильно вычесленной свертки использовалась реализация из библиотеки torch"
   ]
  },
  {
   "cell_type": "code",
   "execution_count": null,
   "metadata": {},
   "outputs": [],
   "source": []
  }
 ],
 "metadata": {
  "kernelspec": {
   "display_name": "vemv",
   "language": "python",
   "name": "python3"
  },
  "language_info": {
   "codemirror_mode": {
    "name": "ipython",
    "version": 3
   },
   "file_extension": ".py",
   "mimetype": "text/x-python",
   "name": "python",
   "nbconvert_exporter": "python",
   "pygments_lexer": "ipython3",
   "version": "3.10.12"
  }
 },
 "nbformat": 4,
 "nbformat_minor": 2
}
